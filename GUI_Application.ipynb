{
  "nbformat": 4,
  "nbformat_minor": 0,
  "metadata": {
    "colab": {
      "name": "GUI Application.ipynb",
      "provenance": [],
      "authorship_tag": "ABX9TyPVuYOUmP1V4sZ6ylQZMfz5",
      "include_colab_link": true
    },
    "kernelspec": {
      "name": "python3",
      "display_name": "Python 3"
    },
    "language_info": {
      "name": "python"
    }
  },
  "cells": [
    {
      "cell_type": "markdown",
      "metadata": {
        "id": "view-in-github",
        "colab_type": "text"
      },
      "source": [
        "<a href=\"https://colab.research.google.com/github/Chelsea-Magleo/OOP-58002/blob/main/GUI_Application.ipynb\" target=\"_parent\"><img src=\"https://colab.research.google.com/assets/colab-badge.svg\" alt=\"Open In Colab\"/></a>"
      ]
    },
    {
      "cell_type": "markdown",
      "source": [
        "Create a Python program that displays the grades of a student grade in prelim, midterm, and final term."
      ],
      "metadata": {
        "id": "ZOn_cSqBZNP1"
      }
    },
    {
      "cell_type": "code",
      "execution_count": 35,
      "metadata": {
        "colab": {
          "base_uri": "https://localhost:8080/"
        },
        "id": "jOdaIdOpTqB2",
        "outputId": "473f08ae-2a08-4fd9-ef88-78f8963254a0"
      },
      "outputs": [
        {
          "output_type": "stream",
          "name": "stdout",
          "text": [
            "Semestral grade of the students is 88.5\n",
            "88.5\n",
            "Female\n",
            "My birthday is 2022-07-29\n"
          ]
        }
      ],
      "source": [
        "#@title Student's Grades in OOP\n",
        "\n",
        "Student_Name = 'Chelsea Magleo' #@param {type:\"string\"}\n",
        "prelim_grade = 90 #@param {type: \"number\"}\n",
        "midterm_grade =  85#@param {type: \"number\"}\n",
        "final_grade = 90 #@param {type:\"number\"}\n",
        "semestral = (prelim_grade*0.3+midterm_grade*0.3+final_grade*0.4)\n",
        "\n",
        "print(\"Semestral grade of the students is \" +str(round((semestral),2)))\n",
        "print(round((semestral),2))\n",
        "\n",
        "Gender = \"Female\" #@param [\"Female\", \"Male\"]\n",
        "Birthdate = \"2022-07-29\" #@param {type: \"date\"}\n",
        "\n",
        "print(Gender)\n",
        "print(\"My birthday is \" +Birthdate)"
      ]
    }
  ]
}