{
  "nbformat": 4,
  "nbformat_minor": 0,
  "metadata": {
    "colab": {
      "name": "OOP-2.ipynb",
      "provenance": [],
      "include_colab_link": true
    },
    "kernelspec": {
      "name": "python3",
      "display_name": "Python 3"
    },
    "language_info": {
      "name": "python"
    }
  },
  "cells": [
    {
      "cell_type": "markdown",
      "metadata": {
        "id": "view-in-github",
        "colab_type": "text"
      },
      "source": [
        "<a href=\"https://colab.research.google.com/github/Chelsea-Magleo/OOP-58002/blob/main/OOP_2.ipynb\" target=\"_parent\"><img src=\"https://colab.research.google.com/assets/colab-badge.svg\" alt=\"Open In Colab\"/></a>"
      ]
    },
    {
      "cell_type": "markdown",
      "source": [
        "Classes with Multiple Objects"
      ],
      "metadata": {
        "id": "Vplrmic3Urm7"
      }
    },
    {
      "cell_type": "code",
      "source": [
        "class Birds:\n",
        "  def __init__(self, bird_name):\n",
        "    self.bird_name = bird_name\n",
        "\n",
        "  def flying_birds(self):\n",
        "    print(f\"{self.bird_name} flies above clouds\")\n",
        "    \n",
        "  def non_flying_birds(self):\n",
        "    print(f\"{self.bird_name} is the national bird of the Philippines\")\n",
        "\n",
        "vulture = Birds(\"Griffon Vulture\")\n",
        "crane = Birds(\"Common Crane\")\n",
        "emu = Birds(\"Emu\")\n",
        "\n",
        "vulture.flying_birds()\n",
        "crane.flying_birds()\n",
        "emu.non_flying_birds()"
      ],
      "metadata": {
        "id": "LTk9GexVa3PE",
        "outputId": "dce9b0be-e1ac-4f7e-e7d6-4cfd169ec798",
        "colab": {
          "base_uri": "https://localhost:8080/"
        }
      },
      "execution_count": null,
      "outputs": [
        {
          "output_type": "stream",
          "name": "stdout",
          "text": [
            "Griffon Vulture flies above clouds\n",
            "Common Crane flies above clouds\n",
            "Emu is the national bird of the Philippines\n"
          ]
        }
      ]
    },
    {
      "cell_type": "markdown",
      "source": [
        "Encapsulation"
      ],
      "metadata": {
        "id": "e6ftry0Gc4tr"
      }
    },
    {
      "cell_type": "code",
      "source": [
        "class foo:\n",
        "  def __init__(self, a, b):\n",
        "    self._a = a\n",
        "    self._b = b\n",
        "\n",
        "  def add(self):\n",
        "    return self._a + self._b\n",
        "  def sub(self):\n",
        "    return self._a - self._b\n",
        "foo_object = foo(3,4)\n",
        "\n",
        "#foo_object = foo(3,4)\n",
        "#print(foo_object.add())\n",
        "#print(foo_object.sub())\n",
        "\n",
        "foo_object.b = 5 #(3,5)\n",
        "#print(foo_object.b)\n",
        "print(foo_object.add()) #adding a and b\n",
        "print(foo_object.sub()) #subtracting a and b\n",
        "\n",
        "foo_object.__b = 5\n",
        "foo_object.__a = 7\n",
        "\n",
        "print(foo_object.add())\n",
        "print(foo_object.sub())\n",
        "#print(foo_object._a)\n",
        "#print(foo_object._b)"
      ],
      "metadata": {
        "colab": {
          "base_uri": "https://localhost:8080/"
        },
        "id": "ISyj4oZ5XMka",
        "outputId": "e3acf2da-0975-4225-8b49-1af6b1c8187b"
      },
      "execution_count": null,
      "outputs": [
        {
          "output_type": "stream",
          "name": "stdout",
          "text": [
            "7\n",
            "-1\n",
            "7\n",
            "-1\n"
          ]
        }
      ]
    },
    {
      "cell_type": "markdown",
      "source": [
        "Inheritance"
      ],
      "metadata": {
        "id": "VC0uhPhmdhRa"
      }
    },
    {
      "cell_type": "code",
      "source": [
        "class Person:\n",
        "  def __init__(self,firstname,surname):\n",
        "    self.firstname = firstname\n",
        "    self.surname = surname\n",
        "\n",
        "  def printname(self):\n",
        "    print(self.firstname,self.surname)\n",
        "\n",
        "person = Person(\"Chelsea\", \"Magleo\")\n",
        "person.printname()\n",
        "\n",
        "class Student(Person):\n",
        "  pass\n",
        "\n",
        "person = Student(\"Reigne\", \"Magleo\")\n",
        "person.printname()"
      ],
      "metadata": {
        "colab": {
          "base_uri": "https://localhost:8080/"
        },
        "id": "J4A-39EDdjYR",
        "outputId": "6d28c2b5-360a-406e-cce1-021ba24f678c"
      },
      "execution_count": null,
      "outputs": [
        {
          "output_type": "stream",
          "name": "stdout",
          "text": [
            "Chelsea Magleo\n",
            "Reigne Magleo\n"
          ]
        }
      ]
    },
    {
      "cell_type": "markdown",
      "source": [
        "Polymorphism"
      ],
      "metadata": {
        "id": "ZxyatQy0gXqC"
      }
    },
    {
      "cell_type": "code",
      "source": [
        "class RegularPolygon:\n",
        "  def __init__(self,side):\n",
        "    self.side = side\n",
        "\n",
        "class Square(RegularPolygon):\n",
        "  def area(self):\n",
        "    return self.side * self.side\n",
        "class EquilateralTriangle(RegularPolygon):\n",
        "  def area(self):\n",
        "    return self.side * self.side * 0.433\n",
        "\n",
        "x = Square(4)\n",
        "y = EquilateralTriangle(3)\n",
        "\n",
        "print(x.area())\n",
        "print(y.area())"
      ],
      "metadata": {
        "colab": {
          "base_uri": "https://localhost:8080/"
        },
        "id": "jACYsrLEgZqp",
        "outputId": "59182768-bf41-4711-afd9-9fba86e9b7c6"
      },
      "execution_count": null,
      "outputs": [
        {
          "output_type": "stream",
          "name": "stdout",
          "text": [
            "16\n",
            "3.897\n"
          ]
        }
      ]
    },
    {
      "cell_type": "markdown",
      "source": [
        "Application 1"
      ],
      "metadata": {
        "id": "dP0onoGRjYtR"
      }
    },
    {
      "cell_type": "markdown",
      "source": [
        "1. Create a Python program that displays the name of three students(Student 1, Student 2, Student 3) and their term grades\n",
        "2. Create a class name Person and attributes - std1, std2, pre, mid, fin\n",
        "3. Compute the average of each term grade using Grade() method\n",
        "4. Information about student's grade must be hidden from others"
      ],
      "metadata": {
        "id": "QTm4wXUBjfSR"
      }
    },
    {
      "cell_type": "code",
      "source": [
        "class Person:\n",
        "  def __init__(self, std1, std2, pre, mid, fin):\n",
        "    self.std1 = std1\n",
        "    self.std2 = std2\n",
        "    self.pre = pre\n",
        "    self.mid = mid\n",
        "    self.fin = fin\n",
        "\n",
        "  def student1(self):\n",
        "    print(f\"{self.std1} is {self.std2}\")\n",
        "  def pre_ave(self):\n",
        "    return (self.pre*.3)+(self.pre*.7)\n",
        "  def mid_ave(self):\n",
        "    return (self.mid*.3)+(self.mid*.7)\n",
        "  def fin_ave(self):\n",
        "    return (self.fin*4)+(self.fin*.6)\n",
        "  def display(self):\n",
        "    print(\"Average for prelim: \", self.pre_ave())\n",
        "    print(\"Average for midterm: \", self.mid_ave())\n",
        "    print(\"Average for finals: \", self.fin_ave())\n",
        "    \n",
        "\n",
        "\n",
        "class Grade(Person):\n",
        "  pass\n",
        "  wei = Person (\"The First student\",\"Wei Wei\", 89, 98, 90)\n",
        "  wei.student1()\n",
        "  wei.display()\n",
        "\n",
        "class Grade_std2(Person):\n",
        "  pass\n",
        "  mei = Person(\"The second student\", \"Mei\", 86, 90, 96)\n",
        "  mei.student1()\n",
        "  mei.display()"
      ],
      "metadata": {
        "id": "PHowj5Xh7UOa",
        "outputId": "4184eab0-fefe-4fe6-b45d-28a3fd96e627",
        "colab": {
          "base_uri": "https://localhost:8080/"
        }
      },
      "execution_count": 1,
      "outputs": [
        {
          "output_type": "stream",
          "name": "stdout",
          "text": [
            "The First student is Wei Wei\n",
            "Average for prelim:  89.0\n",
            "Average for midterm:  98.0\n",
            "Average for finals:  414.0\n",
            "The second student is Mei\n",
            "Average for prelim:  86.0\n",
            "Average for midterm:  90.0\n",
            "Average for finals:  441.6\n"
          ]
        }
      ]
    }
  ]
}