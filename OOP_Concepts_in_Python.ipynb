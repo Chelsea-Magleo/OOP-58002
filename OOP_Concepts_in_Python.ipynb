{
  "nbformat": 4,
  "nbformat_minor": 0,
  "metadata": {
    "colab": {
      "name": "OOP Concepts in Python.ipynb",
      "provenance": [],
      "authorship_tag": "ABX9TyNZkp7A2A1BpluC7jAfEmzz",
      "include_colab_link": true
    },
    "kernelspec": {
      "name": "python3",
      "display_name": "Python 3"
    },
    "language_info": {
      "name": "python"
    }
  },
  "cells": [
    {
      "cell_type": "markdown",
      "metadata": {
        "id": "view-in-github",
        "colab_type": "text"
      },
      "source": [
        "<a href=\"https://colab.research.google.com/github/Chelsea-Magleo/OOP-58002/blob/main/OOP_Concepts_in_Python.ipynb\" target=\"_parent\"><img src=\"https://colab.research.google.com/assets/colab-badge.svg\" alt=\"Open In Colab\"/></a>"
      ]
    },
    {
      "cell_type": "markdown",
      "source": [
        "Create a Class"
      ],
      "metadata": {
        "id": "gNPSB0SFHep5"
      }
    },
    {
      "cell_type": "code",
      "execution_count": 2,
      "metadata": {
        "id": "XZ37ttX5HTr6"
      },
      "outputs": [],
      "source": [
        "class Car:\n",
        "  pass"
      ]
    },
    {
      "cell_type": "markdown",
      "source": [
        "Create an Object"
      ],
      "metadata": {
        "id": "CnjRKZ5FKvWZ"
      }
    },
    {
      "cell_type": "code",
      "source": [
        "class Car:\n",
        "  def __init__ (self,name,color): #all classes have function called __init__:\n",
        "    self.name = name              #attribute names of class named Car\n",
        "    self.color = color\n",
        "\n",
        "  def description(self):\n",
        "    return \"The \"+ self.name + \" has a color \" + self.color\n",
        "\n",
        "  def show(self): #can also be display():\n",
        "    print(\"The\" + self.name + \" has a color\" + self.color)\n",
        "\n",
        "car1 = Car(\" Honda City\",\" red\")\n",
        "car1.show()\n"
      ],
      "metadata": {
        "colab": {
          "base_uri": "https://localhost:8080/"
        },
        "id": "KhSTuGunKyS6",
        "outputId": "b8ba08c5-914b-45ba-ece9-0e9a19504428"
      },
      "execution_count": 29,
      "outputs": [
        {
          "output_type": "stream",
          "name": "stdout",
          "text": [
            "The Honda City has a color red\n"
          ]
        }
      ]
    },
    {
      "cell_type": "markdown",
      "source": [
        "Object Methods"
      ],
      "metadata": {
        "id": "QndvnIvANzID"
      }
    },
    {
      "cell_type": "code",
      "source": [
        "class Person:\n",
        "  pass\n",
        "  def __init__(self, name, age):\n",
        "    self.name = name\n",
        "    self.age = age\n",
        "\n",
        "  def myFunction(self):\n",
        "    print(\"Hello! My name is \", self.name)\n",
        "    print(\"I am \", self.age)\n",
        "\n",
        "p1 = Person(\"Chelsea and \", 19)\n",
        "p1.myFunction()"
      ],
      "metadata": {
        "colab": {
          "base_uri": "https://localhost:8080/"
        },
        "id": "Xrg5zvQsN0no",
        "outputId": "7ec14c2a-b9b6-4b18-9883-cdf49d025e8f"
      },
      "execution_count": 59,
      "outputs": [
        {
          "output_type": "stream",
          "name": "stdout",
          "text": [
            "Hello! My name is  Chelsea and \n",
            "I am  19\n"
          ]
        }
      ]
    },
    {
      "cell_type": "markdown",
      "source": [
        "Modify an Object Property"
      ],
      "metadata": {
        "id": "uW1UNZ0sPqhp"
      }
    },
    {
      "cell_type": "code",
      "source": [
        "class Car:\n",
        "  def __init__ (self,name,color): #all classes have function called __init__:\n",
        "    self.name = name              #attribute names of class named Car\n",
        "    self.color = color\n",
        "\n",
        "  def description(self):\n",
        "    return \"The \"+ self.name + \" has a color \" + self.color\n",
        "\n",
        "  def show(self): #can also be display():\n",
        "    print(\"The\" + self.name + \" has a color\" + self.color)\n",
        "\n",
        "car1 = Car(\" Honda City\",\" red\")\n",
        "car1.show()\n"
      ],
      "metadata": {
        "colab": {
          "base_uri": "https://localhost:8080/"
        },
        "id": "DpkTwTSQPtm4",
        "outputId": "4b5991c3-ad00-4d73-ddc8-43f26cf162bd"
      },
      "execution_count": 33,
      "outputs": [
        {
          "output_type": "stream",
          "name": "stdout",
          "text": [
            "The Honda City has a color red\n"
          ]
        }
      ]
    },
    {
      "cell_type": "code",
      "source": [
        "car1.name = \"Mitsubishi\"\n",
        "car1.color = \"blue\"\n",
        "print(\"The car's brand is \" + car1.name + \" and its color is \" + car1.color)"
      ],
      "metadata": {
        "colab": {
          "base_uri": "https://localhost:8080/"
        },
        "id": "UpmxbgJsQ58v",
        "outputId": "717d6c2b-556e-4ace-e279-d3b4db67369a"
      },
      "execution_count": 60,
      "outputs": [
        {
          "output_type": "stream",
          "name": "stdout",
          "text": [
            "The car's brand is Mitsubishi and its color is blue\n"
          ]
        }
      ]
    },
    {
      "cell_type": "markdown",
      "source": [
        "Delete an Object Property"
      ],
      "metadata": {
        "id": "4huZAHg8Whk5"
      }
    },
    {
      "cell_type": "code",
      "source": [
        "del car1.color\n",
        "print(car1.color)"
      ],
      "metadata": {
        "id": "2KvMxV_eWk4-"
      },
      "execution_count": null,
      "outputs": []
    },
    {
      "cell_type": "code",
      "source": [
        "print(car1.name)\n",
        "print(car1.color)"
      ],
      "metadata": {
        "colab": {
          "base_uri": "https://localhost:8080/",
          "height": 165
        },
        "id": "nLvfKoxYXDC_",
        "outputId": "75ec763b-3621-4535-9995-fd37d76c09a9"
      },
      "execution_count": 67,
      "outputs": [
        {
          "output_type": "error",
          "ename": "AttributeError",
          "evalue": "ignored",
          "traceback": [
            "\u001b[0;31m---------------------------------------------------------------------------\u001b[0m",
            "\u001b[0;31mAttributeError\u001b[0m                            Traceback (most recent call last)",
            "\u001b[0;32m<ipython-input-67-bdd34f8b2065>\u001b[0m in \u001b[0;36m<module>\u001b[0;34m()\u001b[0m\n\u001b[0;32m----> 1\u001b[0;31m \u001b[0mprint\u001b[0m\u001b[0;34m(\u001b[0m\u001b[0mcar1\u001b[0m\u001b[0;34m.\u001b[0m\u001b[0mcolor\u001b[0m\u001b[0;34m)\u001b[0m\u001b[0;34m\u001b[0m\u001b[0;34m\u001b[0m\u001b[0m\n\u001b[0m",
            "\u001b[0;31mAttributeError\u001b[0m: 'Car' object has no attribute 'color'"
          ]
        }
      ]
    },
    {
      "cell_type": "markdown",
      "source": [
        "Application 1 - Write a Python program that computes for the Area and Perimeter of a Square, and create a class name Square with side as its attribute"
      ],
      "metadata": {
        "id": "OPaSg3ecXWvY"
      }
    },
    {
      "cell_type": "code",
      "source": [
        "#Area of a Square = s^2\n",
        "#Perimeter of a Square = 4 * s\n",
        "class Square:\n",
        "  pass\n",
        "  def __init__(self, side):\n",
        "    self.side = side\n",
        "\n",
        "  def Area(self):\n",
        "    return self.side*self.side\n",
        "\n",
        "  def Perimeter(self):\n",
        "    return self.side*4\n",
        "\n",
        "  def display(self):\n",
        "    print(\"The area of a square is \", self.Area())\n",
        "    print(\"The perimeter of a square is \", self.Perimeter())\n",
        "\n",
        "sq1 = Square (2)\n",
        "sq1.display()"
      ],
      "metadata": {
        "colab": {
          "base_uri": "https://localhost:8080/"
        },
        "id": "Uy9KbSBWXqqo",
        "outputId": "33b4c340-d474-4a5d-a65a-99986defad9b"
      },
      "execution_count": 72,
      "outputs": [
        {
          "output_type": "stream",
          "name": "stdout",
          "text": [
            "The area of a square is  4\n",
            "The perimeter of a square is  8\n"
          ]
        }
      ]
    },
    {
      "cell_type": "markdown",
      "source": [
        "Application 2 - Write a Python program that displays your student no. and fullname(Surname, First Name, MI.) and create a class name OOP_58002."
      ],
      "metadata": {
        "id": "vbfSmhwlaf8e"
      }
    },
    {
      "cell_type": "code",
      "source": [
        "class OOP_58002:\n",
        "  pass\n",
        "  def __init__(self, studentno, surname, firstname, mi):\n",
        "    self.studentno = studentno\n",
        "    self.surname = surname\n",
        "    self.firstname = firstname\n",
        "    self.mi = mi\n",
        "  def display(self):\n",
        "    print(\"Hi my student number is \", self.studentno)\n",
        "    print(\"I am \", self.surname, self.firstname, self.mi)\n",
        "\n",
        "OOP1 = OOP_58002 (390, \"Magleo,\", \"Mary Chelsea Reigne\", \"P.\")\n",
        "OOP1.display()"
      ],
      "metadata": {
        "colab": {
          "base_uri": "https://localhost:8080/"
        },
        "id": "eUh3hlxyb-17",
        "outputId": "0d636b85-9fd6-4f16-c53f-2429e0c55866"
      },
      "execution_count": 76,
      "outputs": [
        {
          "output_type": "stream",
          "name": "stdout",
          "text": [
            "Hi my student number is  390\n",
            "I am  Magleo, Mary Chelsea Reigne P.\n"
          ]
        }
      ]
    }
  ]
}