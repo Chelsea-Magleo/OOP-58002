{
  "nbformat": 4,
  "nbformat_minor": 0,
  "metadata": {
    "colab": {
      "name": "Long quiz 1.ipynb",
      "provenance": [],
      "authorship_tag": "ABX9TyNsl62uBdbbF4IVBDdC1X4u",
      "include_colab_link": true
    },
    "kernelspec": {
      "name": "python3",
      "display_name": "Python 3"
    },
    "language_info": {
      "name": "python"
    }
  },
  "cells": [
    {
      "cell_type": "markdown",
      "metadata": {
        "id": "view-in-github",
        "colab_type": "text"
      },
      "source": [
        "<a href=\"https://colab.research.google.com/github/Chelsea-Magleo/OOP-58002/blob/main/Long_quiz_1.ipynb\" target=\"_parent\"><img src=\"https://colab.research.google.com/assets/colab-badge.svg\" alt=\"Open In Colab\"/></a>"
      ]
    },
    {
      "cell_type": "code",
      "source": [
        "class Temperature: #class name: Temperature\n",
        "  def __init__(self,Celsius): #attribute: Celsius\n",
        "    self.Celsius = Celsius\n",
        "  \n",
        "  def Fahrenheit(self): #instantation class for fahrenheit\n",
        "    conversion = float((self.Celsius*1.8)+ 32) #formula for the conversion\n",
        "    return conversion\n",
        "\n",
        "  def show(self):\n",
        "    print(\"The conversion from celsius to fahrenheit is: \")\n",
        "\n",
        "Temp1 = Temperature(Temp)\n",
        "Temp = float(input(\"Celsius: \"))\n",
        "Temp1.show()\n",
        "print(Temp1.Fahrenheit())"
      ],
      "metadata": {
        "colab": {
          "base_uri": "https://localhost:8080/"
        },
        "id": "IiuMduj9qaj8",
        "outputId": "fd76fe59-f6e7-4b75-a385-f0dfac8021cc"
      },
      "execution_count": 76,
      "outputs": [
        {
          "output_type": "stream",
          "name": "stdout",
          "text": [
            "Celsius: 58\n",
            "The conversion from celsius to fahrenheit is: \n",
            "136.4\n"
          ]
        }
      ]
    }
  ]
}