{
  "nbformat": 4,
  "nbformat_minor": 0,
  "metadata": {
    "colab": {
      "name": "Prelim Exam.ipynb",
      "provenance": [],
      "authorship_tag": "ABX9TyP7u8Hp1rCLaM8L1+oyL78b",
      "include_colab_link": true
    },
    "kernelspec": {
      "name": "python3",
      "display_name": "Python 3"
    },
    "language_info": {
      "name": "python"
    }
  },
  "cells": [
    {
      "cell_type": "markdown",
      "metadata": {
        "id": "view-in-github",
        "colab_type": "text"
      },
      "source": [
        "<a href=\"https://colab.research.google.com/github/Chelsea-Magleo/OOP-58002/blob/main/Prelim_Exam.ipynb\" target=\"_parent\"><img src=\"https://colab.research.google.com/assets/colab-badge.svg\" alt=\"Open In Colab\"/></a>"
      ]
    },
    {
      "cell_type": "code",
      "source": [
        "class Student: #class name\n",
        "  def __init__ (self, name, student_no, age, school, course): #attributes\n",
        "    self.name = name\n",
        "    self.age = age\n",
        "    self.student_no = student_no\n",
        "    self.school = school\n",
        "    self.course = course\n",
        "\n",
        "  def Myself(self): #object name\n",
        "    print(\"My name is \",self.name, self.age, \"studying at \",self.school) #instances for each of attributes\n",
        "    print(\"I'm currently taking \", self.course, \"and my student number is \", self.student_no)\n",
        "\n",
        "Student1 = Student(\"Magleo, Mary Chelsea Reigne P.\",202110390,19, \"Adamson University\", \"B.S. Computer Engineering\")\n",
        "Student1.Myself()"
      ],
      "metadata": {
        "colab": {
          "base_uri": "https://localhost:8080/"
        },
        "id": "21y6BfTEFZ-J",
        "outputId": "d46151c9-9ee7-48ae-c24a-cfe9001ca4c1"
      },
      "execution_count": 9,
      "outputs": [
        {
          "output_type": "stream",
          "name": "stdout",
          "text": [
            "My name is  Magleo, Mary Chelsea Reigne P. 19 studying at  Adamson University\n",
            "I'm currently taking  B.S. Computer Engineering and my student number is  202110390\n"
          ]
        }
      ]
    }
  ]
}